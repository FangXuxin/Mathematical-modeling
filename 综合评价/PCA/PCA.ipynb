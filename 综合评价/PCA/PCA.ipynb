{
 "cells": [
  {
   "cell_type": "code",
   "execution_count": 11,
   "metadata": {
    "collapsed": true
   },
   "outputs": [],
   "source": [
    "import pandas as pd"
   ]
  },
  {
   "cell_type": "code",
   "execution_count": 12,
   "outputs": [
    {
     "name": "stdout",
     "output_type": "stream",
     "text": [
      "     Unnamed: 0  Unnamed: 0.1  Unnamed: 0.1.1.1  每周跑单数       办公时间       身体素质\n",
      "0             0             0                 0      5  93.010136  54.151344\n",
      "1             1             1                 1     37  77.104298   9.793433\n",
      "2             2             2                 2      9  74.974969  90.170274\n",
      "3             3             3                 3     29  92.140046  22.161651\n",
      "4             4             4                 4     13  26.020886  95.979799\n",
      "..          ...           ...               ...    ...        ...        ...\n",
      "995         995           995               995     50  66.320168   2.819171\n",
      "996         996           996               996     10  35.241720   6.248797\n",
      "997         997           997               997      3  84.527487  60.135474\n",
      "998         998           998               998     15  70.507032  38.549056\n",
      "999         999           999               999     20  49.631438  78.801097\n",
      "\n",
      "[1000 rows x 6 columns]\n"
     ]
    }
   ],
   "source": [
    "df = pd.read_excel('企业综合能力分析.xlsx')\n",
    "print(df)"
   ],
   "metadata": {
    "collapsed": false,
    "pycharm": {
     "name": "#%%\n"
    }
   }
  },
  {
   "cell_type": "code",
   "execution_count": 13,
   "outputs": [
    {
     "name": "stdout",
     "output_type": "stream",
     "text": [
      "     每周跑单数       办公时间       身体素质\n",
      "0        5  93.010136  54.151344\n",
      "1       37  77.104298   9.793433\n",
      "2        9  74.974969  90.170274\n",
      "3       29  92.140046  22.161651\n",
      "4       13  26.020886  95.979799\n",
      "..     ...        ...        ...\n",
      "995     50  66.320168   2.819171\n",
      "996     10  35.241720   6.248797\n",
      "997      3  84.527487  60.135474\n",
      "998     15  70.507032  38.549056\n",
      "999     20  49.631438  78.801097\n",
      "\n",
      "[1000 rows x 3 columns]\n"
     ]
    }
   ],
   "source": [
    "df = df.drop(columns=['Unnamed: 0','Unnamed: 0.1','Unnamed: 0.1.1.1'])\n",
    "print(df)"
   ],
   "metadata": {
    "collapsed": false,
    "pycharm": {
     "name": "#%%\n"
    }
   }
  },
  {
   "cell_type": "code",
   "execution_count": 14,
   "outputs": [],
   "source": [
    "df = df.index + 1"
   ],
   "metadata": {
    "collapsed": false,
    "pycharm": {
     "name": "#%%\n"
    }
   }
  },
  {
   "cell_type": "code",
   "execution_count": 16,
   "outputs": [
    {
     "ename": "AttributeError",
     "evalue": "'RangeIndex' object has no attribute 'to_excle'",
     "output_type": "error",
     "traceback": [
      "\u001B[1;31m---------------------------------------------------------------------------\u001B[0m",
      "\u001B[1;31mAttributeError\u001B[0m                            Traceback (most recent call last)",
      "\u001B[1;32m~\\AppData\\Local\\Temp\\ipykernel_2612\\1875563431.py\u001B[0m in \u001B[0;36m<module>\u001B[1;34m\u001B[0m\n\u001B[1;32m----> 1\u001B[1;33m \u001B[0mdf\u001B[0m\u001B[1;33m.\u001B[0m\u001B[0mto_excle\u001B[0m\u001B[1;33m(\u001B[0m\u001B[1;34m'企业综合能力分析.xlsx'\u001B[0m\u001B[1;33m)\u001B[0m\u001B[1;33m\u001B[0m\u001B[1;33m\u001B[0m\u001B[0m\n\u001B[0m",
      "\u001B[1;31mAttributeError\u001B[0m: 'RangeIndex' object has no attribute 'to_excle'"
     ]
    }
   ],
   "source": [
    "df.to_excle('企业综合能力分析.xlsx')"
   ],
   "metadata": {
    "collapsed": false,
    "pycharm": {
     "name": "#%%\n"
    }
   }
  }
 ],
 "metadata": {
  "kernelspec": {
   "name": "python3.7",
   "language": "python",
   "display_name": "python3.7"
  },
  "language_info": {
   "codemirror_mode": {
    "name": "ipython",
    "version": 2
   },
   "file_extension": ".py",
   "mimetype": "text/x-python",
   "name": "python",
   "nbconvert_exporter": "python",
   "pygments_lexer": "ipython2",
   "version": "2.7.6"
  }
 },
 "nbformat": 4,
 "nbformat_minor": 0
}